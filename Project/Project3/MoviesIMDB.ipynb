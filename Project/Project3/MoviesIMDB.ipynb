{
 "cells": [
  {
   "cell_type": "markdown",
   "metadata": {},
   "source": [
    "Movies Database"
   ]
  },
  {
   "cell_type": "code",
   "execution_count": 24,
   "metadata": {},
   "outputs": [],
   "source": [
    "# This Python 3 environment comes with many helpful analytics libraries installed\n",
    "# It is defined by the kaggle/python docker image: https://github.com/kaggle/docker-python\n",
    "# For example, here's several helpful packages to load in \n",
    "\n",
    "import numpy as np # linear algebra\n",
    "import pandas as pd # data processing, CSV file I/O (e.g. pd.read_csv)\n",
    "import matplotlib.pyplot as plt #for plotting\n",
    "import seaborn as sea #for visualization\n",
    "\n",
    "# Input data files are available in the \"../input/\" directory.\n",
    "# For example, running this (by clicking run or pressing Shift+Enter) will list the files in the input directory"
   ]
  },
  {
   "cell_type": "code",
   "execution_count": 25,
   "metadata": {},
   "outputs": [],
   "source": [
    "df = pd.read_csv(\"MoviesIMDB/IMDB-Movie-Data.csv\")"
   ]
  },
  {
   "cell_type": "code",
   "execution_count": 26,
   "metadata": {},
   "outputs": [
    {
     "data": {
      "text/html": [
       "<div>\n",
       "<style scoped>\n",
       "    .dataframe tbody tr th:only-of-type {\n",
       "        vertical-align: middle;\n",
       "    }\n",
       "\n",
       "    .dataframe tbody tr th {\n",
       "        vertical-align: top;\n",
       "    }\n",
       "\n",
       "    .dataframe thead th {\n",
       "        text-align: right;\n",
       "    }\n",
       "</style>\n",
       "<table border=\"1\" class=\"dataframe\">\n",
       "  <thead>\n",
       "    <tr style=\"text-align: right;\">\n",
       "      <th></th>\n",
       "      <th>Rank</th>\n",
       "      <th>Title</th>\n",
       "      <th>Genre</th>\n",
       "      <th>Description</th>\n",
       "      <th>Director</th>\n",
       "      <th>Actors</th>\n",
       "      <th>Year</th>\n",
       "      <th>Runtime (Minutes)</th>\n",
       "      <th>Rating</th>\n",
       "      <th>Votes</th>\n",
       "      <th>Revenue (Millions)</th>\n",
       "      <th>Metascore</th>\n",
       "    </tr>\n",
       "  </thead>\n",
       "  <tbody>\n",
       "    <tr>\n",
       "      <th>99</th>\n",
       "      <td>100</td>\n",
       "      <td>The Departed</td>\n",
       "      <td>Crime,Drama,Thriller</td>\n",
       "      <td>An undercover cop and a mole in the police att...</td>\n",
       "      <td>Martin Scorsese</td>\n",
       "      <td>Leonardo DiCaprio, Matt Damon, Jack Nicholson,...</td>\n",
       "      <td>2006</td>\n",
       "      <td>151</td>\n",
       "      <td>8.5</td>\n",
       "      <td>937414</td>\n",
       "      <td>132.37</td>\n",
       "      <td>85.0</td>\n",
       "    </tr>\n",
       "    <tr>\n",
       "      <th>383</th>\n",
       "      <td>384</td>\n",
       "      <td>Bridge of Spies</td>\n",
       "      <td>Drama,History,Thriller</td>\n",
       "      <td>During the Cold War, an American lawyer is rec...</td>\n",
       "      <td>Steven Spielberg</td>\n",
       "      <td>Tom Hanks, Mark Rylance, Alan Alda, Amy Ryan</td>\n",
       "      <td>2015</td>\n",
       "      <td>142</td>\n",
       "      <td>7.6</td>\n",
       "      <td>217938</td>\n",
       "      <td>72.31</td>\n",
       "      <td>81.0</td>\n",
       "    </tr>\n",
       "    <tr>\n",
       "      <th>681</th>\n",
       "      <td>682</td>\n",
       "      <td>We Need to Talk About Kevin</td>\n",
       "      <td>Drama,Mystery,Thriller</td>\n",
       "      <td>Kevin's mother struggles to love her strange c...</td>\n",
       "      <td>Lynne Ramsay</td>\n",
       "      <td>Tilda Swinton, John C. Reilly, Ezra Miller, Ja...</td>\n",
       "      <td>2011</td>\n",
       "      <td>112</td>\n",
       "      <td>7.5</td>\n",
       "      <td>104953</td>\n",
       "      <td>1.74</td>\n",
       "      <td>68.0</td>\n",
       "    </tr>\n",
       "    <tr>\n",
       "      <th>125</th>\n",
       "      <td>126</td>\n",
       "      <td>The Jungle Book</td>\n",
       "      <td>Adventure,Drama,Family</td>\n",
       "      <td>After a threat from the tiger Shere Khan force...</td>\n",
       "      <td>Jon Favreau</td>\n",
       "      <td>Neel Sethi, Bill Murray, Ben Kingsley, Idris Elba</td>\n",
       "      <td>2016</td>\n",
       "      <td>106</td>\n",
       "      <td>7.5</td>\n",
       "      <td>198243</td>\n",
       "      <td>364.00</td>\n",
       "      <td>77.0</td>\n",
       "    </tr>\n",
       "    <tr>\n",
       "      <th>199</th>\n",
       "      <td>200</td>\n",
       "      <td>Central Intelligence</td>\n",
       "      <td>Action,Comedy,Crime</td>\n",
       "      <td>After he reconnects with an awkward pal from h...</td>\n",
       "      <td>Rawson Marshall Thurber</td>\n",
       "      <td>Dwayne Johnson, Kevin Hart, Danielle Nicolet, ...</td>\n",
       "      <td>2016</td>\n",
       "      <td>107</td>\n",
       "      <td>6.3</td>\n",
       "      <td>97082</td>\n",
       "      <td>127.38</td>\n",
       "      <td>52.0</td>\n",
       "    </tr>\n",
       "  </tbody>\n",
       "</table>\n",
       "</div>"
      ],
      "text/plain": [
       "     Rank                        Title                   Genre  \\\n",
       "99    100                 The Departed    Crime,Drama,Thriller   \n",
       "383   384              Bridge of Spies  Drama,History,Thriller   \n",
       "681   682  We Need to Talk About Kevin  Drama,Mystery,Thriller   \n",
       "125   126              The Jungle Book  Adventure,Drama,Family   \n",
       "199   200         Central Intelligence     Action,Comedy,Crime   \n",
       "\n",
       "                                           Description  \\\n",
       "99   An undercover cop and a mole in the police att...   \n",
       "383  During the Cold War, an American lawyer is rec...   \n",
       "681  Kevin's mother struggles to love her strange c...   \n",
       "125  After a threat from the tiger Shere Khan force...   \n",
       "199  After he reconnects with an awkward pal from h...   \n",
       "\n",
       "                    Director  \\\n",
       "99           Martin Scorsese   \n",
       "383         Steven Spielberg   \n",
       "681             Lynne Ramsay   \n",
       "125              Jon Favreau   \n",
       "199  Rawson Marshall Thurber   \n",
       "\n",
       "                                                Actors  Year  \\\n",
       "99   Leonardo DiCaprio, Matt Damon, Jack Nicholson,...  2006   \n",
       "383       Tom Hanks, Mark Rylance, Alan Alda, Amy Ryan  2015   \n",
       "681  Tilda Swinton, John C. Reilly, Ezra Miller, Ja...  2011   \n",
       "125  Neel Sethi, Bill Murray, Ben Kingsley, Idris Elba  2016   \n",
       "199  Dwayne Johnson, Kevin Hart, Danielle Nicolet, ...  2016   \n",
       "\n",
       "     Runtime (Minutes)  Rating   Votes  Revenue (Millions)  Metascore  \n",
       "99                 151     8.5  937414              132.37       85.0  \n",
       "383                142     7.6  217938               72.31       81.0  \n",
       "681                112     7.5  104953                1.74       68.0  \n",
       "125                106     7.5  198243              364.00       77.0  \n",
       "199                107     6.3   97082              127.38       52.0  "
      ]
     },
     "execution_count": 26,
     "metadata": {},
     "output_type": "execute_result"
    }
   ],
   "source": [
    "df.sample(5)"
   ]
  },
  {
   "cell_type": "code",
   "execution_count": 27,
   "metadata": {},
   "outputs": [
    {
     "data": {
      "text/plain": [
       "<bound method NDFrame.describe of      Rank                    Title                     Genre  \\\n",
       "0       1  Guardians of the Galaxy   Action,Adventure,Sci-Fi   \n",
       "1       2               Prometheus  Adventure,Mystery,Sci-Fi   \n",
       "2       3                    Split           Horror,Thriller   \n",
       "3       4                     Sing   Animation,Comedy,Family   \n",
       "4       5            Suicide Squad  Action,Adventure,Fantasy   \n",
       "..    ...                      ...                       ...   \n",
       "995   996     Secret in Their Eyes       Crime,Drama,Mystery   \n",
       "996   997          Hostel: Part II                    Horror   \n",
       "997   998   Step Up 2: The Streets       Drama,Music,Romance   \n",
       "998   999             Search Party          Adventure,Comedy   \n",
       "999  1000               Nine Lives     Comedy,Family,Fantasy   \n",
       "\n",
       "                                           Description              Director  \\\n",
       "0    A group of intergalactic criminals are forced ...            James Gunn   \n",
       "1    Following clues to the origin of mankind, a te...          Ridley Scott   \n",
       "2    Three girls are kidnapped by a man with a diag...    M. Night Shyamalan   \n",
       "3    In a city of humanoid animals, a hustling thea...  Christophe Lourdelet   \n",
       "4    A secret government agency recruits some of th...            David Ayer   \n",
       "..                                                 ...                   ...   \n",
       "995  A tight-knit team of rising investigators, alo...             Billy Ray   \n",
       "996  Three American college students studying abroa...              Eli Roth   \n",
       "997  Romantic sparks occur between two dance studen...            Jon M. Chu   \n",
       "998  A pair of friends embark on a mission to reuni...        Scot Armstrong   \n",
       "999  A stuffy businessman finds himself trapped ins...      Barry Sonnenfeld   \n",
       "\n",
       "                                                Actors  Year  \\\n",
       "0    Chris Pratt, Vin Diesel, Bradley Cooper, Zoe S...  2014   \n",
       "1    Noomi Rapace, Logan Marshall-Green, Michael Fa...  2012   \n",
       "2    James McAvoy, Anya Taylor-Joy, Haley Lu Richar...  2016   \n",
       "3    Matthew McConaughey,Reese Witherspoon, Seth Ma...  2016   \n",
       "4    Will Smith, Jared Leto, Margot Robbie, Viola D...  2016   \n",
       "..                                                 ...   ...   \n",
       "995  Chiwetel Ejiofor, Nicole Kidman, Julia Roberts...  2015   \n",
       "996  Lauren German, Heather Matarazzo, Bijou Philli...  2007   \n",
       "997  Robert Hoffman, Briana Evigan, Cassie Ventura,...  2008   \n",
       "998  Adam Pally, T.J. Miller, Thomas Middleditch,Sh...  2014   \n",
       "999  Kevin Spacey, Jennifer Garner, Robbie Amell,Ch...  2016   \n",
       "\n",
       "     Runtime (Minutes)  Rating   Votes  Revenue (Millions)  Metascore  \n",
       "0                  121     8.1  757074              333.13       76.0  \n",
       "1                  124     7.0  485820              126.46       65.0  \n",
       "2                  117     7.3  157606              138.12       62.0  \n",
       "3                  108     7.2   60545              270.32       59.0  \n",
       "4                  123     6.2  393727              325.02       40.0  \n",
       "..                 ...     ...     ...                 ...        ...  \n",
       "995                111     6.2   27585                 NaN       45.0  \n",
       "996                 94     5.5   73152               17.54       46.0  \n",
       "997                 98     6.2   70699               58.01       50.0  \n",
       "998                 93     5.6    4881                 NaN       22.0  \n",
       "999                 87     5.3   12435               19.64       11.0  \n",
       "\n",
       "[1000 rows x 12 columns]>"
      ]
     },
     "execution_count": 27,
     "metadata": {},
     "output_type": "execute_result"
    }
   ],
   "source": [
    "df.describe"
   ]
  },
  {
   "cell_type": "code",
   "execution_count": 32,
   "metadata": {},
   "outputs": [
    {
     "data": {
      "text/plain": [
       "Index(['Rank', 'Title', 'Genre', 'Description', 'Director', 'Actors', 'Year',\n",
       "       'Runtime (Minutes)', 'Rating', 'Votes', 'Revenue (Millions)',\n",
       "       'Metascore'],\n",
       "      dtype='object')"
      ]
     },
     "execution_count": 32,
     "metadata": {},
     "output_type": "execute_result"
    }
   ],
   "source": [
    "#show the columns\n",
    "\n",
    "df.columns"
   ]
  },
  {
   "cell_type": "code",
   "execution_count": 28,
   "metadata": {},
   "outputs": [
    {
     "data": {
      "image/png": "[encoded data removed]",
      "text/plain": [
       "<Figure size 648x432 with 1 Axes>"
      ]
     },
     "metadata": {
      "needs_background": "light"
     },
     "output_type": "display_data"
    }
   ],
   "source": [
    "#histogram plot about number of published movies according to year\n",
    "\n",
    "df.Year.plot(kind = \"hist\", bins = 40, figsize = (9,6))\n",
    "plt.xlabel(\"Years\")\n",
    "plt.ylabel(\"Number of Movies\")\n",
    "plt.show()"
   ]
  },
  {
   "cell_type": "code",
   "execution_count": 35,
   "metadata": {},
   "outputs": [
    {
     "data": {
      "text/plain": [
       "Index(['Rank', 'Title', 'Genre', 'Description', 'Director', 'Actors', 'Year',\n",
       "       'Runtime_Minutes', 'Rating', 'Votes', 'Revenue_Millions', 'Metascore'],\n",
       "      dtype='object')"
      ]
     },
     "execution_count": 35,
     "metadata": {},
     "output_type": "execute_result"
    }
   ],
   "source": [
    "# there was a blank in some columns. We removed them\n",
    "df.columns=[i.split()[0]+\"_\"+i.split()[1]  if len(i.split())>1 else i for i in df.columns]\n",
    "\n",
    "# and remove paranthesis\n",
    "df=df.rename(columns = {'Revenue_(Millions)':'Revenue_Millions'})\n",
    "df=df.rename(columns = {'Runtime_(Minutes)':'Runtime_Minutes'})\n",
    "\n",
    "df.columns"
   ]
  },
  {
   "cell_type": "markdown",
   "metadata": {},
   "source": []
  },
  {
   "cell_type": "code",
   "execution_count": 37,
   "metadata": {},
   "outputs": [
    {
     "data": {
      "text/plain": [
       "Text(0, 0.5, 'Counts')"
      ]
     },
     "execution_count": 37,
     "metadata": {},
     "output_type": "execute_result"
    },
    {
     "data": {
      "image/png": "[encoded data removed]",
      "text/plain": [
       "<Figure size 1008x576 with 1 Axes>"
      ]
     },
     "metadata": {
      "needs_background": "light"
     },
     "output_type": "display_data"
    }
   ],
   "source": [
    "#histogtam runtimenya\n",
    "movies_time=df.Runtime_Minutes\n",
    "f,ax = plt.subplots(figsize=(14, 8))\n",
    "sea.distplot(movies_time, bins=20, kde=False,rug=True, ax=ax);\n",
    "plt.ylabel(\"Counts\")"
   ]
  },
  {
   "cell_type": "code",
   "execution_count": null,
   "metadata": {},
   "outputs": [],
   "source": []
  }
 ],
 "metadata": {
  "kernelspec": {
   "display_name": "Python 3",
   "language": "python",
   "name": "python3"
  },
  "language_info": {
   "codemirror_mode": {
    "name": "ipython",
    "version": 3
   },
   "file_extension": ".py",
   "mimetype": "text/x-python",
   "name": "python",
   "nbconvert_exporter": "python",
   "pygments_lexer": "ipython3",
   "version": "3.7.4"
  }
 },
 "nbformat": 4,
 "nbformat_minor": 4
}
